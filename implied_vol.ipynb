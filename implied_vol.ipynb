{
 "cells": [
  {
   "cell_type": "markdown",
   "metadata": {},
   "source": [
    "# データの確認\n",
    "日本取引所の公開しているデータから，日経225の2021年6限月(つまり原資産を日経225とし，2021年6月の第二金曜日に満期を迎えるオプション)の，2021年4月28日における終値を抽出した．\n",
    "データは`data_20210428.csv`に入っており，各列のラベルは以下を意味している：\n",
    "* `K`は行使価額\n",
    "* `put_value_market`はプットオプションの市場価格\n",
    "* `call_value_market`はコールオプションの市場価格\n",
    "\n",
    "ただしオプションの市場価格の数値について，取引がなかったものについて価格はおそらく`0`と評価されている．\n",
    "そのため，プット・コールのそれぞれに対し`0`でない市場価格を持つような行使価額のみを取り出すことにし，`df_put`，`df_call`とした．"
   ]
  },
  {
   "cell_type": "code",
   "execution_count": 1,
   "metadata": {},
   "outputs": [
    {
     "name": "stdout",
     "output_type": "stream",
     "text": [
      "         K  put_value_market  call_value_market\n",
      "83   28750               550                805\n",
      "84   28875               595                800\n",
      "85   29000               645                700\n",
      "86   29125               755                645\n",
      "87   29250               720                590\n",
      "88   29375                 0                510\n",
      "89   29500                 0                455\n",
      "90   29625                 0                430\n",
      "91   29750                 0                355\n",
      "92   29875                 0                325\n",
      "93   30000                 0                275\n",
      "94   30125                 0                245\n",
      "95   30250                 0                215\n",
      "96   30375                 0                195\n",
      "97   30500                 0                155\n",
      "98   30625                 0                135\n",
      "99   30750                 0                125\n",
      "100  30875                 0                100\n",
      "101  31000                 0                 87\n",
      "102  31125                 0                 74\n",
      "103  31250                 0                 64\n",
      "104  31375                 0                 54\n",
      "105  31500                 0                 47\n",
      "106  31625                 0                 45\n",
      "107  31750                 0                 34\n",
      "108  31875                 0                 34\n",
      "109  32000                 0                 25\n",
      "110  32125                 0                 23\n",
      "111  32250                 0                 19\n",
      "112  32500                 0                 14\n",
      "113  32750                 0                 12\n",
      "114  33000                 0                  8\n",
      "115  33250                 0                  7\n",
      "116  33500                 0                  6\n",
      "117  33750                 0                  4\n",
      "118  34000                 0                  3\n",
      "119  34250                 0                  3\n",
      "120  34500                 0                  2\n",
      "121  35000                 0                  2\n"
     ]
    }
   ],
   "source": [
    "import pandas as pd\n",
    "df = pd.read_csv(\"data_20210428.csv\")\n",
    "df_put = df[df[\"put_value_market\"] != 0]\n",
    "df_call = df[df[\"call_value_market\"] != 0]\n",
    "print(df_call)"
   ]
  },
  {
   "cell_type": "markdown",
   "metadata": {},
   "source": [
    "# ニュートン法によるインプライド・ボラティリティの計算\n",
    "コールオプションの市場価格を$c^*$とすると，ニュートン法\n",
    "$$\n",
    "\\sigma_t = \\sigma_{t-1} - \\dfrac{c(K, \\sigma_{t-1}) - c^*}{\\nu(K, \\sigma_{t-1}}\n",
    "$$\n",
    "によってインプライド・ボラティリティを計算することができる．\n",
    "ただし$\\nu(K, \\sigma_{t-1})$はベガと呼ばれる量で，\n",
    "$$\n",
    "\\nu(K, \\sigma) = \\dfrac{\\partial c}{\\partial \\sigma} = S(0) \\sqrt{T} \\dfrac{1}{\\sqrt{2\\pi}} \\exp \\left[ -d_+^2 / 2 \\right]\n",
    "$$\n",
    "のように計算できる．$d_+$の計算方法は本文参照．\n",
    "さらに，プットオプションのベガもコールオプションと同じ式で計算できるから，ほとんど同様に実装できる．"
   ]
  },
  {
   "cell_type": "code",
   "execution_count": 2,
   "metadata": {},
   "outputs": [
    {
     "data": {
      "text/plain": [
       "100.75265958902173"
      ]
     },
     "execution_count": 2,
     "metadata": {},
     "output_type": "execute_result"
    }
   ],
   "source": [
    "import numpy as np\n",
    "from scipy.stats import norm \n",
    "\n",
    "S0 = 29053.97 # initial stock price\n",
    "r = 0.0025 # interest rate / year\n",
    "T = 44 / 365.0 # 1 year\n",
    "\n",
    "class European_call:\n",
    "    def __init__(self, S0, r, T):\n",
    "        self.S0 = S0\n",
    "        self.r = r\n",
    "        self.T = T\n",
    "        \n",
    "    def get_d_list(self, K, vol):\n",
    "        d_plus = (1.0 / (vol*np.sqrt(self.T))) * (np.log(self.S0/K) + (self.r+0.5*vol*vol)*self.T)\n",
    "        d_minus = (1.0 / (vol*np.sqrt(self.T))) * (np.log(self.S0/K) + (self.r-0.5*vol*vol)*self.T)\n",
    "        return [d_plus, d_minus]\n",
    "    \n",
    "    def get_value(self, K, vol):\n",
    "        d_plus, d_minus = self.get_d_list(K, vol)\n",
    "        return self.S0*norm.cdf(d_plus) - K*np.exp(-self.r*self.T)*norm.cdf(d_minus)\n",
    "    \n",
    "    def get_vega(self, K, vol):\n",
    "        d_plus, d_minus = self.get_d_list(K, vol)\n",
    "        return self.S0*np.sqrt(T)*(1.0/np.sqrt(2.0*np.pi))*np.exp(-0.5*d_plus*d_plus)\n",
    "    \n",
    "    def get_implied_vol(self, c_actual, K, num_iteration = 80): # c_actual:コールオプションの市場価格\n",
    "        implied_vol = 1.6 # 小さい値を取るとvegaが0になってしまい，ニュートン法に支障をきたす．\n",
    "        for idx in range(num_iteration):\n",
    "            # ニュートン法により，オプションの理論値と市場価格が等しくなるようなsigma_impliedを求める．\n",
    "            implied_vol = implied_vol - (self.get_value(K, implied_vol)-c_actual) / self.get_vega(K, implied_vol)\n",
    "        return implied_vol\n",
    "\n",
    "class European_put:\n",
    "    def __init__(self, S0, r, T):\n",
    "        self.S0 = S0\n",
    "        self.r = r\n",
    "        self.T = T\n",
    "        \n",
    "    def get_d_list(self, K, vol):\n",
    "        d_plus = (1.0 / (vol*np.sqrt(self.T))) * (np.log(self.S0/K) + (self.r+0.5*vol*vol)*self.T)\n",
    "        d_minus = (1.0 / (vol*np.sqrt(self.T))) * (np.log(self.S0/K) + (self.r-0.5*vol*vol)*self.T)\n",
    "        return [d_plus, d_minus]\n",
    "    \n",
    "    def get_value(self, K, vol):\n",
    "        d_plus, d_minus = self.get_d_list(K, vol)\n",
    "        return -self.S0*norm.cdf(-d_plus) + K*np.exp(-self.r*self.T)*norm.cdf(-d_minus)\n",
    "    \n",
    "    def get_vega(self, K, vol):\n",
    "        d_plus, d_minus = self.get_d_list(K, vol)\n",
    "        return self.S0*np.sqrt(T)*(1.0/np.sqrt(2.0*np.pi))*np.exp(-0.5*d_plus*d_plus)\n",
    "    \n",
    "    def get_implied_vol(self, p_actual, K, num_iteration = 80): # p_actual:プットオプションの市場価格\n",
    "        implied_vol = 1.6 # 小さい値を取るとvegaが0になってしまい，ニュートン法に支障をきたす．\n",
    "        for idx in range(num_iteration):\n",
    "            # ニュートン法により，オプションの理論値と市場価格が等しくなるようなimplied_volを求める．\n",
    "            implied_vol = implied_vol - (self.get_value(K, implied_vol)-p_actual) / self.get_vega(K, implied_vol)\n",
    "        return implied_vol\n",
    "option = European_call(S0, r, T)\n",
    "option.get_value(30875, 0.152869)"
   ]
  },
  {
   "cell_type": "markdown",
   "metadata": {},
   "source": [
    "# ボラティリティ・スマイルの確認\n",
    "実際の市場価格を使い，ボラティリティ・スマイルを確認する．なお，元データから測定時点での原資産価格は$S_0 = 29053.97$とわかっている．また金利は$r = 0.0$とみなしてよく，満期までの時間を計算すると$44$日なので$T = 44 / 365$とした．"
   ]
  },
  {
   "cell_type": "code",
   "execution_count": 3,
   "metadata": {},
   "outputs": [],
   "source": [
    "# parameters\n",
    "S0 = 29053.97 # initial stock price\n",
    "r = 0.00 # interest rate / year\n",
    "T = 44 / 365.0 # 1 year\n",
    "\n",
    "option = European_call(S0, r, T) # まずはコールオプションから調べる\n",
    "vol_for_call = np.zeros(len(df_call)) # コールオプションの市場価格から求めたインプライド・ボラティリティを格納する\n",
    "\n",
    "for num, idx in enumerate(df_call.index):\n",
    "    K = df_call.at[idx, \"K\"] # 行使価額のデータを取り出す\n",
    "    c_actual = df_call.at[idx, \"call_value_market\"] # 市場価格のデータを取り出す\n",
    "    vol_for_call[num] = option.get_implied_vol(c_actual, K) # インプライド・ボラティリティを計算\n",
    "\n",
    "option = European_put(S0, r, T) # 次はプットオプション\n",
    "vol_for_put = np.zeros(len(df_put))\n",
    "\n",
    "for num, idx in enumerate(df_put.index):\n",
    "    K = df_put.at[idx, \"K\"]\n",
    "    p_actual = df_put.at[idx, \"put_value_market\"]\n",
    "    vol_for_put[num] = option.get_implied_vol(p_actual, K)"
   ]
  },
  {
   "cell_type": "markdown",
   "metadata": {},
   "source": [
    "グラフに示す．満期が短い株式オプションに典型的にみられる性質が反映されている．"
   ]
  },
  {
   "cell_type": "code",
   "execution_count": 5,
   "metadata": {},
   "outputs": [
    {
     "data": {
      "image/png": "[encoded data removed]",
      "text/plain": [
       "<Figure size 432x288 with 1 Axes>"
      ]
     },
     "metadata": {
      "needs_background": "light"
     },
     "output_type": "display_data"
    }
   ],
   "source": [
    "%matplotlib inline\n",
    "import matplotlib.pyplot as plt\n",
    "plt.plot(df_call[\"K\"], vol_for_call, label = \"call\")\n",
    "plt.plot(df_put[\"K\"], vol_for_put, label = \"put\")\n",
    "#plt.plot(df[\"K\"], df[\"vol_call\"], label = \"implied_vol_data\")\n",
    "plt.grid()\n",
    "plt.vlines(S0, min(vol_for_call), max(vol_for_put), linestyles = \"dashed\", color = \"black\", label = \"S0\")\n",
    "plt.xlabel(\"K\",size = 18)\n",
    "plt.ylabel(\"implied vol.\",size = 18)\n",
    "plt.legend(bbox_to_anchor = (0,0), loc = \"lower left\", fontsize = 16)\n",
    "plt.savefig(\"implied_vol.pdf\")"
   ]
  },
  {
   "cell_type": "markdown",
   "metadata": {},
   "source": [
    "# おまけ：fitting"
   ]
  },
  {
   "cell_type": "code",
   "execution_count": 169,
   "metadata": {},
   "outputs": [
    {
     "name": "stdout",
     "output_type": "stream",
     "text": [
      "[ 4.44149259e-01  4.67622433e-01  4.91095606e-01  5.14568779e-01\n",
      "  5.38041953e-01  5.61515126e-01  5.84988299e-01  6.08461473e-01\n",
      "  6.31934646e-01  6.55407819e-01  6.78880992e-01  7.02354166e-01\n",
      "  7.25827339e-01  7.49300512e-01  7.72773686e-01  7.96246859e-01\n",
      "  8.19720032e-01  8.43193205e-01  8.66666379e-01  8.90139552e-01\n",
      "  9.13612725e-01  9.37085899e-01  9.60559072e-01  9.84032245e-01\n",
      "  1.00750542e+00  1.03097859e+00  1.05445177e+00  1.07792494e+00\n",
      "  1.10139811e+00  1.14834446e+00  1.19529080e+00  1.24223715e+00\n",
      "  1.28918350e+00  1.33612984e+00  1.38307619e+00  1.43002254e+00\n",
      "  1.47696888e+00  1.52391523e+00  1.61780792e+00 -2.70125596e+00\n",
      " -2.65430962e+00 -2.37263154e+00 -1.95011442e+00 -1.76232903e+00\n",
      " -1.71538268e+00 -1.66843634e+00 -1.62148999e+00 -1.57454364e+00\n",
      " -1.52759730e+00 -1.48065095e+00 -1.43370460e+00 -1.38675826e+00\n",
      " -1.29286556e+00 -1.24591922e+00 -1.19897287e+00 -1.15202652e+00\n",
      " -1.10508018e+00 -1.05813383e+00 -1.01118748e+00 -9.64241138e-01\n",
      " -9.17294792e-01 -8.70348445e-01 -8.23402099e-01 -7.76455752e-01\n",
      " -7.29509405e-01 -6.82563059e-01 -6.35616712e-01 -5.88670366e-01\n",
      " -5.41724019e-01 -4.94777672e-01 -4.47831326e-01 -4.00884979e-01\n",
      " -3.53938633e-01 -3.06992286e-01 -2.60045939e-01 -2.13099593e-01\n",
      " -1.66153246e-01 -1.19206900e-01 -7.22605531e-02 -2.53142065e-02\n",
      " -1.84103320e-03  2.16321401e-02  6.85784867e-02  9.20516600e-02\n",
      "  1.15524833e-01  1.62471180e-01  1.85944353e-01  2.09417526e-01\n",
      "  2.32890700e-01  2.56363873e-01  2.79837046e-01  3.03310220e-01\n",
      "  3.26783393e-01  3.50256566e-01  3.73729740e-01  3.97202913e-01\n",
      "  4.20676086e-01  4.44149259e-01  4.67622433e-01  4.91095606e-01\n",
      "  5.14568779e-01  5.38041953e-01]\n"
     ]
    }
   ],
   "source": [
    "'''\n",
    "x_train = np.array(df_call[\"K\"])\n",
    "x_train_normalized = (x_train - x_train.mean()) / x_train.std()\n",
    "x_test_normalized = np.linspace(min(x_train_normalized), max(x_train_normalized), len(x_train_normalized)*4)\n",
    "y_train = vol_for_call\n",
    "y_train_normalized = (y_train - y_train.mean()) / y_train.std()\n",
    "print(x_train_normalized)\n",
    "'''\n",
    "\n",
    "\n",
    "# プットとコールの行使価額のデータを結合する\n",
    "x_train = np.zeros(len(df_call) + len(df_put))\n",
    "x_train[0:len(df_call)] = np.array(df_call[\"K\"])\n",
    "x_train[len(df_call):] = np.array(df_put[\"K\"])\n",
    "# ガウス過程回帰しやすいように標準化\n",
    "x_train_normalized = (x_train - x_train.mean()) / x_train.std()\n",
    "# 行使価額のデータよりも細かい点で回帰を行う\n",
    "x_test_normalized = np.linspace(min(x_train_normalized), max(x_train_normalized), len(x_train_normalized)*4)\n",
    "x_test = np.linspace(min(x_train), max(x_train), len(x_train)*4)\n",
    "\n",
    "# インプライド・ボラティリティについても同様\n",
    "y_train = np.zeros(len(x_train))\n",
    "y_train[0:len(df_call)] = vol_for_call\n",
    "y_train[len(df_call):] = vol_for_put\n",
    "y_train_normalized = (y_train - y_train.mean()) / y_train.std()\n",
    "print(x_train_normalized)"
   ]
  },
  {
   "cell_type": "code",
   "execution_count": 233,
   "metadata": {},
   "outputs": [
    {
     "name": "stdout",
     "output_type": "stream",
     "text": [
      "(102, 10)\n"
     ]
    }
   ],
   "source": [
    "M = 10\n",
    "def phi(x):#基底関数:ガウス関数\n",
    "    h = (max(x_test_normalized)-min(x_test_normalized)) / M\n",
    "    return np.exp(-(x - np.linspace(min(x_test_normalized), max(x_test_normalized), M))**2/(2*h **2))\n",
    "\n",
    "Phi = np.array([phi(x) for x in x_train_normalized])    #ガウス関数の計画行列\n",
    "print(Phi.shape)\n",
    "\n",
    "alpha = 0.01\n",
    "beta = 0.05\n",
    "\n",
    "S = np.linalg.inv(alpha * np.eye(M) + beta * Phi.T.dot(Phi))    #ガウス関数の分散\n",
    "m = beta * S.dot(Phi.T).dot(y_train_normalized)     #ガウス関数の平均\n",
    "\n",
    "mu = [m.dot(phi(x_)) for x_ in x_test_normalized]\n",
    "mu = np.array(mu)\n",
    "std = [np.sqrt( beta+phi(x_).T.dot(S).dot(phi(x_)) ) for x_ in x_test_normalized]\n",
    "std = np.array(std)"
   ]
  },
  {
   "cell_type": "code",
   "execution_count": 234,
   "metadata": {},
   "outputs": [
    {
     "data": {
      "image/png": "[encoded data removed]",
      "text/plain": [
       "<Figure size 576x432 with 1 Axes>"
      ]
     },
     "metadata": {
      "needs_background": "light"
     },
     "output_type": "display_data"
    }
   ],
   "source": [
    "plt.figure(figsize=(8, 6))\n",
    "plt.plot(df_call[\"K\"], vol_for_call,\"x\", label = \"call\")\n",
    "plt.plot(df_put[\"K\"], vol_for_put, \"o\", label = \"put\")\n",
    "#plt.plot(x_train, y_train, \"x\", color = \"green\", label = \"data\")\n",
    "mu = y_train.mean() + mu*y_train.std()\n",
    "std = std*y_train.std()\n",
    "plt.plot(x_test, mu, label = \"fitting\")\n",
    "plt.fill_between(x_test, mu + 0.5*std, mu - 0.5*std, alpha=.2, color='blue')\n",
    "plt.xlabel(\"K\",size = 18)\n",
    "plt.ylabel(\"implied vol.\",size = 18)\n",
    "#plt.xlim([])\n",
    "plt.legend(bbox_to_anchor = (0,0), loc = \"lower left\", fontsize = 16)\n",
    "plt.grid()\n",
    "plt.savefig(\"implied_vol_fitting.pdf\")"
   ]
  },
  {
   "cell_type": "code",
   "execution_count": null,
   "metadata": {},
   "outputs": [],
   "source": []
  }
 ],
 "metadata": {
  "kernelspec": {
   "display_name": "Python 3",
   "language": "python",
   "name": "python3"
  },
  "language_info": {
   "codemirror_mode": {
    "name": "ipython",
    "version": 3
   },
   "file_extension": ".py",
   "mimetype": "text/x-python",
   "name": "python",
   "nbconvert_exporter": "python",
   "pygments_lexer": "ipython3",
   "version": "3.8.5"
  }
 },
 "nbformat": 4,
 "nbformat_minor": 4
}
